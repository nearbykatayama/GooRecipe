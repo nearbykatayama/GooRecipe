{
  "nbformat": 4,
  "nbformat_minor": 0,
  "metadata": {
    "colab": {
      "provenance": [],
      "authorship_tag": "ABX9TyPgMlHW2GcXm8spX5t+dw6S",
      "include_colab_link": true
    },
    "kernelspec": {
      "name": "python3",
      "display_name": "Python 3"
    },
    "language_info": {
      "name": "python"
    }
  },
  "cells": [
    {
      "cell_type": "markdown",
      "metadata": {
        "id": "view-in-github",
        "colab_type": "text"
      },
      "source": [
        "<a href=\"https://colab.research.google.com/github/nearbykatayama/my_first_project/blob/main/GooRecipe.ipynb\" target=\"_parent\"><img src=\"https://colab.research.google.com/assets/colab-badge.svg\" alt=\"Open In Colab\"/></a>"
      ]
    },
    {
      "cell_type": "code",
      "source": [
        "#instalando o SDK do Google\n",
        "!pip install -q -U google-generativeai"
      ],
      "metadata": {
        "id": "5aj7NuFAmHSY"
      },
      "execution_count": 10,
      "outputs": []
    },
    {
      "cell_type": "code",
      "source": [
        "#configurações iniciais\n",
        "import google.generativeai as genai\n",
        "import os\n",
        "import requests\n",
        "import mimetypes\n",
        "import tempfile"
      ],
      "metadata": {
        "id": "K1kWEltzmKFx"
      },
      "execution_count": 11,
      "outputs": []
    },
    {
      "cell_type": "code",
      "source": [
        "from google.colab import userdata\n",
        "api_key= userdata.get('SECRET_KEY')\n",
        "genai.configure(api_key=api_key)"
      ],
      "metadata": {
        "id": "hsoUHBtlmN22"
      },
      "execution_count": 12,
      "outputs": []
    },
    {
      "cell_type": "code",
      "source": [
        "#listando os modelos disponíveis\n",
        "for m in genai.list_models():\n",
        "  if 'generateContent' in m.supported_generation_methods:\n",
        "    print(m.name)"
      ],
      "metadata": {
        "id": "89sspu_zmRIn",
        "colab": {
          "base_uri": "https://localhost:8080/",
          "height": 139
        },
        "outputId": "7fc25e81-da62-4ae9-8492-bb601609082f"
      },
      "execution_count": 13,
      "outputs": [
        {
          "output_type": "stream",
          "name": "stdout",
          "text": [
            "models/gemini-1.0-pro\n",
            "models/gemini-1.0-pro-001\n",
            "models/gemini-1.0-pro-latest\n",
            "models/gemini-1.0-pro-vision-latest\n",
            "models/gemini-1.5-pro-latest\n",
            "models/gemini-pro\n",
            "models/gemini-pro-vision\n"
          ]
        }
      ]
    },
    {
      "cell_type": "code",
      "source": [
        "#configurações complementares\n",
        "generation_config = {\n",
        "  \"temperature\": 1,\n",
        "  \"top_p\": 0.95,\n",
        "  \"top_k\": 0,\n",
        "}\n",
        "\n",
        "safety_settings={\n",
        "    'HATE': 'BLOCK_NONE',\n",
        "    'HARASSMENT': 'BLOCK_NONE',\n",
        "    'SEXUAL' : 'BLOCK_NONE',\n",
        "    'DANGEROUS' : 'BLOCK_NONE'\n",
        "    }"
      ],
      "metadata": {
        "id": "07H1ma9EmTlh"
      },
      "execution_count": 14,
      "outputs": []
    },
    {
      "cell_type": "code",
      "source": [
        "#instrução\n",
        "system_instruction = \"Você é um mestre cuca, e conhece todos os pratos típicos do Brasil, Itália, França e Japão.\""
      ],
      "metadata": {
        "id": "fm3D57qLmXn-"
      },
      "execution_count": 15,
      "outputs": []
    },
    {
      "cell_type": "code",
      "source": [
        "#modelo utilizado\n",
        "model = genai.GenerativeModel(model_name=\"gemini-1.5-pro-latest\",\n",
        "                              generation_config=generation_config,\n",
        "                              system_instruction=system_instruction,\n",
        "                              safety_settings=safety_settings)"
      ],
      "metadata": {
        "id": "t7ZKdk29mapt"
      },
      "execution_count": 16,
      "outputs": []
    },
    {
      "cell_type": "code",
      "source": [
        "#código do chatbot - GooRecipe\n",
        "chat = model.start_chat(history=[])\n",
        "\n",
        "while True:\n",
        "    tipo_imagem = input(\"O que você tem em mente? (quero fazer com o que tenho / me inspire): \")\n",
        "\n",
        "    if tipo_imagem.lower() not in [\"quero fazer com o que tenho\", \"me inspire\"]:\n",
        "        print(\"Opção inválida. Por favor, digite 'quero fazer com o que tenho' ou 'me inspire'.\")\n",
        "        continue\n",
        "\n",
        "    imagem = input(\"Digite o caminho da imagem desejada: \")\n",
        "\n",
        "    if tipo_imagem.lower() == \"quero fazer com o que tenho\":\n",
        "        prompt = [genai.upload_file(imagem), \"Diga qual prato é o da imagem, faça uma lista dos ingredientes necessários e as quantidades, e detalhe o modo de preparo. Dê opções como forno, microondas e outros. Dê uma estimativa de quanto tempo o prato fica pronto.\"]\n",
        "    else:\n",
        "        prompt = [genai.upload_file(imagem), \"Sugira 3 opções de pratos que podem ser feitos com estes ingredientes, coloque as quantidades necessárias dos ingredientes, e detalhe o modo de preparo. Dê opções como forno, microondas e outros. Dê uma estimativa de quanto tempo o prato ficará pronto.\"]\n",
        "\n",
        "    response = chat.send_message(prompt)\n",
        "    print(response.text)  # acessar o texto gerado diretamente\n",
        "\n",
        "    continuar = input(\"Quer tentar outro prato? (s/n): \")\n",
        "    if continuar.lower() != \"s\":\n",
        "        break\n",
        "    chat = model.start_chat(history=[])  # reiniciar o chat para o próximo prato\n"
      ],
      "metadata": {
        "id": "oAjf2Q38iMHx",
        "colab": {
          "base_uri": "https://localhost:8080/",
          "height": 1000
        },
        "outputId": "dafe7b1a-8272-4a9f-c094-615ac9ce37e7"
      },
      "execution_count": null,
      "outputs": [
        {
          "output_type": "stream",
          "name": "stdout",
          "text": [
            "O que você tem em mente? (quero fazer / me inspire): me inspire\n",
            "Digite o caminho da imagem desejada: /content/ingredientes1.jpg\n",
            "## Opções de Pratos com os Ingredientes: \n",
            "\n",
            "Com os ingredientes da imagem, temos uma variedade de pratos possíveis devido à versatilidade dos mesmos. Aqui estão três sugestões com diferentes modos de preparo:\n",
            "\n",
            "**1. Pizza de Frigideira (20 minutos):**\n",
            "\n",
            "* **Ingredientes:**\n",
            "    * 1 base de pizza pronta (ou massa de pizza caseira) \n",
            "    * 2 colheres de sopa de molho de tomate\n",
            "    * 1/2 xícara de queijo parmesão ralado\n",
            "    * 1 tomate fatiado\n",
            "    * 1/2 xícara de cogumelos fatiados\n",
            "    * Orégano e manjericão a gosto\n",
            "    * Azeite de oliva\n",
            "* **Modo de Preparo:**\n",
            "    1. Aqueça um fio de azeite em uma frigideira grande.\n",
            "    2. Coloque a base da pizza e deixe dourar levemente de um lado.\n",
            "    3. Vire a base, espalhe o molho de tomate, o queijo, o tomate e os cogumelos. \n",
            "    4. Tempere com orégano, manjericão e tampe a frigideira.\n",
            "    5. Deixe cozinhar em fogo baixo por cerca de 10-15 minutos, ou até o queijo derreter e a base ficar crocante.\n",
            "\n",
            "**2. Omelete Recheada (15 minutos):**\n",
            "\n",
            "* **Ingredientes:**\n",
            "    * 2 ovos\n",
            "    * 1 colher de sopa de leite\n",
            "    * 1/4 xícara de queijo parmesão ralado\n",
            "    * 1/2 tomate picado\n",
            "    * 1/4 xícara de cogumelos fatiados\n",
            "    * Sal e pimenta a gosto\n",
            "    * Azeite de oliva\n",
            "* **Modo de Preparo:**\n",
            "    1. Bata os ovos com o leite, sal e pimenta.\n",
            "    2. Aqueça um fio de azeite em uma frigideira antiaderente.\n",
            "    3. Despeje a mistura de ovos e deixe cozinhar em fogo baixo.\n",
            "    4. Quando a omelete estiver quase firme, adicione o queijo, tomate e cogumelos em uma metade.\n",
            "    5. Dobre a omelete ao meio e deixe cozinhar por mais alguns minutos.\n",
            "\n",
            "**3. Bruschetta de Tomate e Cogumelos (10 minutos):**\n",
            "\n",
            "* **Ingredientes:**\n",
            "    * Fatias de pão italiano\n",
            "    * 1 dente de alho\n",
            "    * 2 tomates picados\n",
            "    * 1/2 xícara de cogumelos fatiados\n",
            "    * Azeite de oliva\n",
            "    * Sal e pimenta a gosto\n",
            "    * Manjericão fresco\n",
            "* **Modo de Preparo:**\n",
            "    1. Toste as fatias de pão no forno ou torradeira.\n",
            "    2. Esfregue o alho em cada fatia de pão.\n",
            "    3. Em uma tigela, misture os tomates, cogumelos, azeite, sal, pimenta e manjericão.\n",
            "    4. Coloque a mistura de tomate e cogumelos sobre as fatias de pão. \n",
            "    5. Regue com mais azeite e sirva.\n",
            "\n",
            "**Observações:**\n",
            "\n",
            "* As quantidades podem ser ajustadas de acordo com o número de pessoas e preferências.\n",
            "* O tempo de preparo é uma estimativa e pode variar de acordo com o equipamento utilizado.\n",
            "* Explore diferentes temperos e ervas para dar um toque especial aos pratos.\n",
            "\n",
            "\n",
            "**Dica:** A massa de pizza pode ser facilmente feita em casa com farinha, água, fermento e sal. Há diversas receitas disponíveis online.\n",
            "\n",
            "Bom apetite! \n",
            "\n",
            "Quer tentar outro prato? (s/n): s\n",
            "O que você tem em mente? (quero fazer / me inspire): quero fazer\n",
            "Digite o caminho da imagem desejada: /content/prato1.jpg\n",
            "## Lasanha à Bolonhesa \n",
            "\n",
            "Esta delícia italiana é um prato clássico que agrada a muitos paladares. Vamos aos ingredientes e ao modo de preparo:\n",
            "\n",
            "**Ingredientes:**\n",
            "\n",
            "*   **Molho à bolonhesa:**\n",
            "    *   500g de carne moída (patinho, acém ou outra de sua preferência)\n",
            "    *   1 cebola picada\n",
            "    *   2 dentes de alho picados\n",
            "    *   2 latas de tomate pelado\n",
            "    *   1 cenoura ralada (opcional)\n",
            "    *   1 talo de salsão picado (opcional)\n",
            "    *   1/2 xícara de vinho tinto seco (opcional)\n",
            "    *   Sal, pimenta-do-reino e temperos a gosto (orégano, manjericão, etc.)\n",
            "    *   Azeite de oliva\n",
            "*   **Massa:**\n",
            "    *   250g de massa para lasanha pré-cozida\n",
            "    *   **Molho branco:**\n",
            "    *   50g de manteiga\n",
            "    *   50g de farinha de trigo\n",
            "    *   1 litro de leite\n",
            "    *   Noz-moscada ralada a gosto\n",
            "    *   Sal e pimenta-do-reino a gosto\n",
            "*   **Finalização:**\n",
            "    *   200g de queijo mussarela ralado\n",
            "    *   Queijo parmesão ralado a gosto\n",
            "\n",
            "**Modo de preparo:**\n",
            "\n",
            "1.  **Molho à bolonhesa:** Em uma panela grande, refogue a cebola e o alho no azeite de oliva. Adicione a carne moída e cozinhe até dourar. Junte a cenoura e o salsão (se usar), o tomate pelado e o vinho (se usar). Tempere com sal, pimenta e os temperos desejados. Deixe cozinhar em fogo baixo por pelo menos 1 hora, mexendo ocasionalmente. Quanto mais tempo cozinhar, mais saboroso ficará o molho.\n",
            "\n",
            "2.  **Molho branco:** Em uma panela, derreta a manteiga e adicione a farinha de trigo, mexendo sempre até formar um roux. Aos poucos, adicione o leite, mexendo constantemente para evitar que se formem grumos. Tempere com sal, pimenta e noz-moscada. Cozinhe até engrossar, mexendo sempre. \n",
            "\n",
            "3.  **Montagem:** Em um refratário, espalhe uma camada fina de molho à bolonhesa. Cubra com uma camada de massa para lasanha, depois com molho branco e, por fim, com molho à bolonhesa. Repita as camadas até terminar os ingredientes, finalizando com uma camada de molho branco e queijo mussarela ralado. Polvilhe queijo parmesão por cima.\n",
            "\n",
            "4.  **Cozimento:**\n",
            "\n",
            "    *   **Forno:** Pré-aqueça o forno a 180°C. Cubra o refratário com papel alumínio e leve ao forno por cerca de 30 minutos. Retire o papel alumínio e deixe gratinar por mais 10-15 minutos, ou até que o queijo esteja dourado e borbulhante.\n",
            "\n",
            "    *   **Microondas:** Embora não seja o método ideal, você pode cozinhar a lasanha no microondas em potência alta por cerca de 15-20 minutos, ou até que esteja quente e borbulhante. A textura da massa pode ficar um pouco diferente do cozimento no forno.\n",
            "\n",
            "**Tempo de preparo:** O tempo total de preparo varia de acordo com o tempo de cozimento do molho à bolonhesa, mas geralmente leva em torno de 2 a 3 horas.\n",
            "\n",
            "**Dicas:**\n",
            "\n",
            "*   Para um molho à bolonhesa ainda mais rico, adicione um pouco de bacon picado no início do refogado.\n",
            "*   Você pode usar massa de lasanha fresca ou seca. Se usar massa seca, siga as instruções da embalagem para o tempo de cozimento. \n",
            "*   Se preferir uma lasanha vegetariana, substitua a carne moída por legumes picados, como abobrinha, berinjela e cogumelos. \n",
            "*   Deixe a lasanha descansar por alguns minutos antes de servir, para que os sabores se misturem e a massa fique mais firme.\n",
            "\n",
            "**Bom apetite!** \n",
            "\n"
          ]
        }
      ]
    },
    {
      "cell_type": "code",
      "source": [
        "#codigo de impressão\n",
        "import textwrap\n",
        "\n",
        "def format_chat_history(chat_history):\n",
        "    \"\"\"Formata o histórico do chat para exibição.\"\"\"\n",
        "    for message in chat_history:\n",
        "        role = message.role.upper()\n",
        "        print(f\"**{role}**:\")\n",
        "        for part in message.parts:\n",
        "            text = textwrap.indent(part.text, '  ')\n",
        "            print(text)\n",
        "        print('-------------------------------------------')"
      ],
      "metadata": {
        "id": "TMUvKF4HmxUF"
      },
      "execution_count": null,
      "outputs": []
    }
  ]
}